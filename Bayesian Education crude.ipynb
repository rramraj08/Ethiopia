{
 "cells": [
  {
   "cell_type": "code",
   "execution_count": 1,
   "metadata": {},
   "outputs": [],
   "source": [
    "import pandas as pd\n",
    "import numpy as np\n",
    "import arviz as az"
   ]
  },
  {
   "cell_type": "code",
   "execution_count": 2,
   "metadata": {},
   "outputs": [],
   "source": [
    "df_ethiopia = pd.read_excel(r'alldatasets.xlsx',sheet_name='Ethiopia')"
   ]
  },
  {
   "cell_type": "code",
   "execution_count": 3,
   "metadata": {},
   "outputs": [
    {
     "data": {
      "text/html": [
       "<div>\n",
       "<style scoped>\n",
       "    .dataframe tbody tr th:only-of-type {\n",
       "        vertical-align: middle;\n",
       "    }\n",
       "\n",
       "    .dataframe tbody tr th {\n",
       "        vertical-align: top;\n",
       "    }\n",
       "\n",
       "    .dataframe thead th {\n",
       "        text-align: right;\n",
       "    }\n",
       "</style>\n",
       "<table border=\"1\" class=\"dataframe\">\n",
       "  <thead>\n",
       "    <tr style=\"text-align: right;\">\n",
       "      <th></th>\n",
       "      <th>childid</th>\n",
       "      <th>country</th>\n",
       "      <th>height</th>\n",
       "      <th>stunting_2cat</th>\n",
       "      <th>EDUYRS2</th>\n",
       "      <th>z_score</th>\n",
       "      <th>timeschool</th>\n",
       "      <th>agegapr1</th>\n",
       "      <th>momeduyrsr1</th>\n",
       "      <th>chsexr1</th>\n",
       "      <th>agemonr1</th>\n",
       "      <th>hhsizer1</th>\n",
       "      <th>wi_newr1</th>\n",
       "      <th>job_cat</th>\n",
       "      <th>pvt_sector</th>\n",
       "      <th>earn</th>\n",
       "      <th>earn_usd</th>\n",
       "    </tr>\n",
       "  </thead>\n",
       "  <tbody>\n",
       "    <tr>\n",
       "      <th>0</th>\n",
       "      <td>ET011003</td>\n",
       "      <td>Ethiopia</td>\n",
       "      <td>157.0</td>\n",
       "      <td>0.0</td>\n",
       "      <td>16.5</td>\n",
       "      <td>1.379536</td>\n",
       "      <td>15.0</td>\n",
       "      <td>9.0</td>\n",
       "      <td>12.0</td>\n",
       "      <td>0</td>\n",
       "      <td>99</td>\n",
       "      <td>7</td>\n",
       "      <td>0.524603</td>\n",
       "      <td>5</td>\n",
       "      <td>1</td>\n",
       "      <td>2000.0</td>\n",
       "      <td>92.032104</td>\n",
       "    </tr>\n",
       "    <tr>\n",
       "      <th>1</th>\n",
       "      <td>ET011004</td>\n",
       "      <td>Ethiopia</td>\n",
       "      <td>174.0</td>\n",
       "      <td>NaN</td>\n",
       "      <td>10.0</td>\n",
       "      <td>-0.092591</td>\n",
       "      <td>30.0</td>\n",
       "      <td>10.0</td>\n",
       "      <td>6.0</td>\n",
       "      <td>1</td>\n",
       "      <td>90</td>\n",
       "      <td>8</td>\n",
       "      <td>0.473611</td>\n",
       "      <td>3</td>\n",
       "      <td>1</td>\n",
       "      <td>32000.0</td>\n",
       "      <td>1472.513672</td>\n",
       "    </tr>\n",
       "    <tr>\n",
       "      <th>2</th>\n",
       "      <td>ET011009</td>\n",
       "      <td>Ethiopia</td>\n",
       "      <td>155.0</td>\n",
       "      <td>0.0</td>\n",
       "      <td>12.5</td>\n",
       "      <td>1.785974</td>\n",
       "      <td>30.0</td>\n",
       "      <td>14.0</td>\n",
       "      <td>8.0</td>\n",
       "      <td>0</td>\n",
       "      <td>90</td>\n",
       "      <td>13</td>\n",
       "      <td>0.562821</td>\n",
       "      <td>5</td>\n",
       "      <td>1</td>\n",
       "      <td>7000.0</td>\n",
       "      <td>322.112366</td>\n",
       "    </tr>\n",
       "    <tr>\n",
       "      <th>3</th>\n",
       "      <td>ET011010</td>\n",
       "      <td>Ethiopia</td>\n",
       "      <td>153.5</td>\n",
       "      <td>0.0</td>\n",
       "      <td>12.0</td>\n",
       "      <td>1.803539</td>\n",
       "      <td>30.0</td>\n",
       "      <td>NaN</td>\n",
       "      <td>NaN</td>\n",
       "      <td>0</td>\n",
       "      <td>91</td>\n",
       "      <td>3</td>\n",
       "      <td>0.320370</td>\n",
       "      <td>5</td>\n",
       "      <td>1</td>\n",
       "      <td>3600.0</td>\n",
       "      <td>165.657791</td>\n",
       "    </tr>\n",
       "    <tr>\n",
       "      <th>4</th>\n",
       "      <td>ET011014</td>\n",
       "      <td>Ethiopia</td>\n",
       "      <td>169.0</td>\n",
       "      <td>0.0</td>\n",
       "      <td>10.0</td>\n",
       "      <td>0.893750</td>\n",
       "      <td>45.0</td>\n",
       "      <td>3.0</td>\n",
       "      <td>0.0</td>\n",
       "      <td>1</td>\n",
       "      <td>99</td>\n",
       "      <td>6</td>\n",
       "      <td>0.409259</td>\n",
       "      <td>3</td>\n",
       "      <td>1</td>\n",
       "      <td>43200.0</td>\n",
       "      <td>1987.893433</td>\n",
       "    </tr>\n",
       "  </tbody>\n",
       "</table>\n",
       "</div>"
      ],
      "text/plain": [
       "    childid   country  height  stunting_2cat  EDUYRS2   z_score  timeschool  \\\n",
       "0  ET011003  Ethiopia   157.0            0.0     16.5  1.379536        15.0   \n",
       "1  ET011004  Ethiopia   174.0            NaN     10.0 -0.092591        30.0   \n",
       "2  ET011009  Ethiopia   155.0            0.0     12.5  1.785974        30.0   \n",
       "3  ET011010  Ethiopia   153.5            0.0     12.0  1.803539        30.0   \n",
       "4  ET011014  Ethiopia   169.0            0.0     10.0  0.893750        45.0   \n",
       "\n",
       "   agegapr1  momeduyrsr1  chsexr1  agemonr1  hhsizer1  wi_newr1  job_cat  \\\n",
       "0       9.0         12.0        0        99         7  0.524603        5   \n",
       "1      10.0          6.0        1        90         8  0.473611        3   \n",
       "2      14.0          8.0        0        90        13  0.562821        5   \n",
       "3       NaN          NaN        0        91         3  0.320370        5   \n",
       "4       3.0          0.0        1        99         6  0.409259        3   \n",
       "\n",
       "   pvt_sector     earn     earn_usd  \n",
       "0           1   2000.0    92.032104  \n",
       "1           1  32000.0  1472.513672  \n",
       "2           1   7000.0   322.112366  \n",
       "3           1   3600.0   165.657791  \n",
       "4           1  43200.0  1987.893433  "
      ]
     },
     "execution_count": 3,
     "metadata": {},
     "output_type": "execute_result"
    }
   ],
   "source": [
    "df_ethiopia.head()"
   ]
  },
  {
   "cell_type": "code",
   "execution_count": 4,
   "metadata": {},
   "outputs": [
    {
     "data": {
      "text/plain": [
       "Index(['childid', 'country', 'height', 'stunting_2cat', 'EDUYRS2', 'z_score',\n",
       "       'timeschool', 'agegapr1', 'momeduyrsr1', 'chsexr1', 'agemonr1',\n",
       "       'hhsizer1', 'wi_newr1', 'job_cat', 'pvt_sector', 'earn', 'earn_usd'],\n",
       "      dtype='object')"
      ]
     },
     "execution_count": 4,
     "metadata": {},
     "output_type": "execute_result"
    }
   ],
   "source": [
    "df_ethiopia.columns"
   ]
  },
  {
   "cell_type": "code",
   "execution_count": 5,
   "metadata": {},
   "outputs": [],
   "source": [
    "from scipy import stats\n",
    "import scipy.stats as stats"
   ]
  },
  {
   "cell_type": "code",
   "execution_count": 6,
   "metadata": {},
   "outputs": [
    {
     "data": {
      "text/plain": [
       "<seaborn.axisgrid.FacetGrid at 0x20a7dc83340>"
      ]
     },
     "execution_count": 6,
     "metadata": {},
     "output_type": "execute_result"
    },
    {
     "data": {
      "image/png": "[encoded data removed]",
      "text/plain": [
       "<Figure size 436.25x360 with 1 Axes>"
      ]
     },
     "metadata": {
      "needs_background": "light"
     },
     "output_type": "display_data"
    }
   ],
   "source": [
    "import seaborn as sns\n",
    "sns.displot(df_ethiopia, x=\"EDUYRS2\", hue=\"stunting_2cat\", kind=\"kde\", multiple=\"stack\")"
   ]
  },
  {
   "cell_type": "code",
   "execution_count": 7,
   "metadata": {},
   "outputs": [],
   "source": [
    "df_ethiopia=df_ethiopia.astype({\"chsexr1\": 'object', \"job_cat\": 'object', \"pvt_sector\": 'object',\"stunting_2cat\": 'object'})"
   ]
  },
  {
   "cell_type": "code",
   "execution_count": 8,
   "metadata": {},
   "outputs": [],
   "source": [
    "df_outlier=df_ethiopia.copy()"
   ]
  },
  {
   "cell_type": "code",
   "execution_count": 9,
   "metadata": {},
   "outputs": [
    {
     "data": {
      "text/html": [
       "<div>\n",
       "<style scoped>\n",
       "    .dataframe tbody tr th:only-of-type {\n",
       "        vertical-align: middle;\n",
       "    }\n",
       "\n",
       "    .dataframe tbody tr th {\n",
       "        vertical-align: top;\n",
       "    }\n",
       "\n",
       "    .dataframe thead th {\n",
       "        text-align: right;\n",
       "    }\n",
       "</style>\n",
       "<table border=\"1\" class=\"dataframe\">\n",
       "  <thead>\n",
       "    <tr style=\"text-align: right;\">\n",
       "      <th></th>\n",
       "      <th>Total</th>\n",
       "      <th>Missing Percent</th>\n",
       "    </tr>\n",
       "  </thead>\n",
       "  <tbody>\n",
       "  </tbody>\n",
       "</table>\n",
       "</div>"
      ],
      "text/plain": [
       "Empty DataFrame\n",
       "Columns: [Total, Missing Percent]\n",
       "Index: []"
      ]
     },
     "execution_count": 9,
     "metadata": {},
     "output_type": "execute_result"
    }
   ],
   "source": [
    "total = df_outlier.isnull().sum().sort_values(ascending=False)\n",
    "percent = (df_outlier.isnull().sum()/df_outlier.isnull().count()).sort_values(ascending=False)\n",
    "missing_data = pd.concat([total, percent], axis=1, keys=['Total', 'Missing Percent'])\n",
    "missing_data['Missing Percent'] = missing_data['Missing Percent'].apply(lambda x: x * 100)\n",
    "missing_data.loc[missing_data['Missing Percent'] > 95]"
   ]
  },
  {
   "cell_type": "code",
   "execution_count": 10,
   "metadata": {},
   "outputs": [],
   "source": [
    "df_outlier=df_outlier.select_dtypes(include=['int64','floating'])"
   ]
  },
  {
   "cell_type": "code",
   "execution_count": 11,
   "metadata": {},
   "outputs": [
    {
     "data": {
      "text/plain": [
       "height         float64\n",
       "EDUYRS2        float64\n",
       "z_score        float64\n",
       "timeschool     float64\n",
       "agegapr1       float64\n",
       "momeduyrsr1    float64\n",
       "agemonr1         int64\n",
       "hhsizer1         int64\n",
       "wi_newr1       float64\n",
       "earn           float64\n",
       "earn_usd       float64\n",
       "dtype: object"
      ]
     },
     "execution_count": 11,
     "metadata": {},
     "output_type": "execute_result"
    }
   ],
   "source": [
    "df_outlier.dtypes"
   ]
  },
  {
   "cell_type": "code",
   "execution_count": 12,
   "metadata": {},
   "outputs": [],
   "source": [
    "import warnings\n",
    "\n",
    "warnings.filterwarnings('ignore')"
   ]
  },
  {
   "cell_type": "code",
   "execution_count": 13,
   "metadata": {},
   "outputs": [
    {
     "data": {
      "text/plain": [
       "height         float64\n",
       "EDUYRS2        float64\n",
       "z_score        float64\n",
       "timeschool     float64\n",
       "agegapr1       float64\n",
       "momeduyrsr1    float64\n",
       "agemonr1         int64\n",
       "hhsizer1         int64\n",
       "wi_newr1       float64\n",
       "earn           float64\n",
       "earn_usd       float64\n",
       "dtype: object"
      ]
     },
     "execution_count": 13,
     "metadata": {},
     "output_type": "execute_result"
    }
   ],
   "source": [
    "df_outlier.dtypes"
   ]
  },
  {
   "cell_type": "code",
   "execution_count": 14,
   "metadata": {},
   "outputs": [],
   "source": [
    "def cap_data(df):\n",
    "    for col in df.columns:\n",
    "        print(\"capping the \",col)\n",
    "        if (((df[col].dtype)=='float64') | ((df[col].dtype)=='int64') | ((df[col].dtype)=='float32')):\n",
    "            percentiles = df[col].quantile([0.01,0.99]).values\n",
    "            df[col][df[col] <= percentiles[0]] = percentiles[0]\n",
    "            df[col][df[col] >= percentiles[1]] = percentiles[1]\n",
    "        else:\n",
    "            df[col]=df[col]\n",
    "    return df\n",
    "\n"
   ]
  },
  {
   "cell_type": "code",
   "execution_count": 15,
   "metadata": {},
   "outputs": [
    {
     "name": "stdout",
     "output_type": "stream",
     "text": [
      "capping the  height\n",
      "capping the  EDUYRS2\n",
      "capping the  z_score\n",
      "capping the  timeschool\n",
      "capping the  agegapr1\n",
      "capping the  momeduyrsr1\n",
      "capping the  agemonr1\n",
      "capping the  hhsizer1\n",
      "capping the  wi_newr1\n",
      "capping the  earn\n",
      "capping the  earn_usd\n"
     ]
    }
   ],
   "source": [
    "final_df=cap_data(df_outlier)"
   ]
  },
  {
   "cell_type": "code",
   "execution_count": 16,
   "metadata": {},
   "outputs": [],
   "source": [
    "from sklearn.impute import KNNImputer\n",
    "from sklearn.preprocessing import MinMaxScaler"
   ]
  },
  {
   "cell_type": "code",
   "execution_count": 17,
   "metadata": {},
   "outputs": [],
   "source": [
    "df_ethiopia=df_ethiopia.drop(['childid','country'],axis=1)"
   ]
  },
  {
   "cell_type": "code",
   "execution_count": 18,
   "metadata": {},
   "outputs": [],
   "source": [
    "all_category_features=df_ethiopia.select_dtypes(include='object')"
   ]
  },
  {
   "cell_type": "code",
   "execution_count": 19,
   "metadata": {},
   "outputs": [
    {
     "name": "stdout",
     "output_type": "stream",
     "text": [
      "<class 'pandas.core.frame.DataFrame'>\n",
      "RangeIndex: 603 entries, 0 to 602\n",
      "Data columns (total 4 columns):\n",
      " #   Column         Non-Null Count  Dtype \n",
      "---  ------         --------------  ----- \n",
      " 0   stunting_2cat  580 non-null    object\n",
      " 1   chsexr1        603 non-null    object\n",
      " 2   job_cat        603 non-null    object\n",
      " 3   pvt_sector     603 non-null    object\n",
      "dtypes: object(4)\n",
      "memory usage: 19.0+ KB\n"
     ]
    }
   ],
   "source": [
    "all_category_features.info()"
   ]
  },
  {
   "cell_type": "markdown",
   "metadata": {},
   "source": [
    "# KNN for Categories"
   ]
  },
  {
   "cell_type": "code",
   "execution_count": 20,
   "metadata": {},
   "outputs": [],
   "source": [
    "mm = MinMaxScaler()\n",
    "\n",
    "def find_category_mappings(df, variable):\n",
    "    return {k: i for i, k in enumerate(df[variable].dropna().unique(), 0)}\n",
    "\n",
    "def integer_encode(df , variable, ordinal_mapping):\n",
    "    df[variable] = df[variable].map(ordinal_mapping)\n",
    "\n",
    "mappin = dict()\n",
    "def imputation(df1 , cols):\n",
    "    df = df1.copy()\n",
    "    #Encoding dict &amp; Removing nan    \n",
    "    #mappin = dict()\n",
    "    for variable in cols:\n",
    "        mappings = find_category_mappings(df, variable)\n",
    "        mappin[variable] = mappings\n",
    "\n",
    "    #Apply mapping\n",
    "    for variable in cols:\n",
    "        integer_encode(df, variable, mappin[variable])  \n",
    "\n",
    "    #Minmaxscaler and KNN imputation \n",
    "    sca = mm.fit_transform(df)\n",
    "    knn_imputer = KNNImputer()\n",
    "    knn = knn_imputer.fit_transform(sca)\n",
    "    df.iloc[:,:] = mm.inverse_transform(knn)\n",
    "    for i in df.columns : \n",
    "        df[i] = round(df[i]).astype('int')\n",
    "\n",
    "    #Inverse transform\n",
    "    for i in cols:\n",
    "        inv_map = {v: k for k, v in mappin[i].items()}\n",
    "        df[i] = df[i].map(inv_map)\n",
    "    return df"
   ]
  },
  {
   "cell_type": "code",
   "execution_count": 21,
   "metadata": {},
   "outputs": [],
   "source": [
    "df_cat_imp=imputation(all_category_features,['stunting_2cat','chsexr1','job_cat','pvt_sector'])"
   ]
  },
  {
   "cell_type": "code",
   "execution_count": 22,
   "metadata": {},
   "outputs": [
    {
     "data": {
      "text/plain": [
       "pvt_sector       0\n",
       "job_cat          0\n",
       "chsexr1          0\n",
       "stunting_2cat    0\n",
       "dtype: int64"
      ]
     },
     "execution_count": 22,
     "metadata": {},
     "output_type": "execute_result"
    }
   ],
   "source": [
    "df_cat_imp.isnull().sum().sort_values(ascending = False)"
   ]
  },
  {
   "cell_type": "code",
   "execution_count": 23,
   "metadata": {},
   "outputs": [
    {
     "name": "stdout",
     "output_type": "stream",
     "text": [
      "<class 'pandas.core.frame.DataFrame'>\n",
      "RangeIndex: 603 entries, 0 to 602\n",
      "Data columns (total 4 columns):\n",
      " #   Column         Non-Null Count  Dtype  \n",
      "---  ------         --------------  -----  \n",
      " 0   stunting_2cat  603 non-null    float64\n",
      " 1   chsexr1        603 non-null    int64  \n",
      " 2   job_cat        603 non-null    int64  \n",
      " 3   pvt_sector     603 non-null    int64  \n",
      "dtypes: float64(1), int64(3)\n",
      "memory usage: 19.0 KB\n"
     ]
    }
   ],
   "source": [
    "df_cat_imp.info()"
   ]
  },
  {
   "cell_type": "markdown",
   "metadata": {},
   "source": [
    "# KNN for numerics"
   ]
  },
  {
   "cell_type": "code",
   "execution_count": 24,
   "metadata": {},
   "outputs": [],
   "source": [
    "df_knn=final_df.copy()"
   ]
  },
  {
   "cell_type": "code",
   "execution_count": 25,
   "metadata": {},
   "outputs": [],
   "source": [
    "from sklearn.impute import KNNImputer\n",
    "imputer = KNNImputer(n_neighbors=5)\n",
    "df_num_imp = pd.DataFrame(imputer.fit_transform(df_knn),columns = df_knn.columns)"
   ]
  },
  {
   "cell_type": "code",
   "execution_count": 26,
   "metadata": {},
   "outputs": [
    {
     "data": {
      "text/html": [
       "<div>\n",
       "<style scoped>\n",
       "    .dataframe tbody tr th:only-of-type {\n",
       "        vertical-align: middle;\n",
       "    }\n",
       "\n",
       "    .dataframe tbody tr th {\n",
       "        vertical-align: top;\n",
       "    }\n",
       "\n",
       "    .dataframe thead th {\n",
       "        text-align: right;\n",
       "    }\n",
       "</style>\n",
       "<table border=\"1\" class=\"dataframe\">\n",
       "  <thead>\n",
       "    <tr style=\"text-align: right;\">\n",
       "      <th></th>\n",
       "      <th>height</th>\n",
       "      <th>EDUYRS2</th>\n",
       "      <th>z_score</th>\n",
       "      <th>timeschool</th>\n",
       "      <th>agegapr1</th>\n",
       "      <th>momeduyrsr1</th>\n",
       "      <th>agemonr1</th>\n",
       "      <th>hhsizer1</th>\n",
       "      <th>wi_newr1</th>\n",
       "      <th>earn</th>\n",
       "      <th>earn_usd</th>\n",
       "    </tr>\n",
       "  </thead>\n",
       "  <tbody>\n",
       "    <tr>\n",
       "      <th>0</th>\n",
       "      <td>157.0</td>\n",
       "      <td>12.5</td>\n",
       "      <td>1.379536</td>\n",
       "      <td>15.0</td>\n",
       "      <td>9.0</td>\n",
       "      <td>12.0</td>\n",
       "      <td>99.0</td>\n",
       "      <td>7.0</td>\n",
       "      <td>0.524603</td>\n",
       "      <td>2000.0</td>\n",
       "      <td>92.032104</td>\n",
       "    </tr>\n",
       "    <tr>\n",
       "      <th>1</th>\n",
       "      <td>174.0</td>\n",
       "      <td>10.0</td>\n",
       "      <td>-0.092591</td>\n",
       "      <td>30.0</td>\n",
       "      <td>10.0</td>\n",
       "      <td>6.0</td>\n",
       "      <td>90.0</td>\n",
       "      <td>8.0</td>\n",
       "      <td>0.473611</td>\n",
       "      <td>32000.0</td>\n",
       "      <td>1472.513672</td>\n",
       "    </tr>\n",
       "    <tr>\n",
       "      <th>2</th>\n",
       "      <td>155.0</td>\n",
       "      <td>12.5</td>\n",
       "      <td>1.785974</td>\n",
       "      <td>30.0</td>\n",
       "      <td>14.0</td>\n",
       "      <td>8.0</td>\n",
       "      <td>90.0</td>\n",
       "      <td>12.0</td>\n",
       "      <td>0.562821</td>\n",
       "      <td>7000.0</td>\n",
       "      <td>322.112366</td>\n",
       "    </tr>\n",
       "    <tr>\n",
       "      <th>3</th>\n",
       "      <td>153.5</td>\n",
       "      <td>12.0</td>\n",
       "      <td>1.803539</td>\n",
       "      <td>30.0</td>\n",
       "      <td>16.2</td>\n",
       "      <td>1.4</td>\n",
       "      <td>91.0</td>\n",
       "      <td>3.0</td>\n",
       "      <td>0.320370</td>\n",
       "      <td>3600.0</td>\n",
       "      <td>165.657791</td>\n",
       "    </tr>\n",
       "    <tr>\n",
       "      <th>4</th>\n",
       "      <td>169.0</td>\n",
       "      <td>10.0</td>\n",
       "      <td>0.893750</td>\n",
       "      <td>45.0</td>\n",
       "      <td>3.0</td>\n",
       "      <td>0.0</td>\n",
       "      <td>99.0</td>\n",
       "      <td>6.0</td>\n",
       "      <td>0.409259</td>\n",
       "      <td>43200.0</td>\n",
       "      <td>1987.893433</td>\n",
       "    </tr>\n",
       "  </tbody>\n",
       "</table>\n",
       "</div>"
      ],
      "text/plain": [
       "   height  EDUYRS2   z_score  timeschool  agegapr1  momeduyrsr1  agemonr1  \\\n",
       "0   157.0     12.5  1.379536        15.0       9.0         12.0      99.0   \n",
       "1   174.0     10.0 -0.092591        30.0      10.0          6.0      90.0   \n",
       "2   155.0     12.5  1.785974        30.0      14.0          8.0      90.0   \n",
       "3   153.5     12.0  1.803539        30.0      16.2          1.4      91.0   \n",
       "4   169.0     10.0  0.893750        45.0       3.0          0.0      99.0   \n",
       "\n",
       "   hhsizer1  wi_newr1     earn     earn_usd  \n",
       "0       7.0  0.524603   2000.0    92.032104  \n",
       "1       8.0  0.473611  32000.0  1472.513672  \n",
       "2      12.0  0.562821   7000.0   322.112366  \n",
       "3       3.0  0.320370   3600.0   165.657791  \n",
       "4       6.0  0.409259  43200.0  1987.893433  "
      ]
     },
     "execution_count": 26,
     "metadata": {},
     "output_type": "execute_result"
    }
   ],
   "source": [
    "df_num_imp.head()"
   ]
  },
  {
   "cell_type": "code",
   "execution_count": 27,
   "metadata": {},
   "outputs": [
    {
     "data": {
      "text/html": [
       "<div>\n",
       "<style scoped>\n",
       "    .dataframe tbody tr th:only-of-type {\n",
       "        vertical-align: middle;\n",
       "    }\n",
       "\n",
       "    .dataframe tbody tr th {\n",
       "        vertical-align: top;\n",
       "    }\n",
       "\n",
       "    .dataframe thead th {\n",
       "        text-align: right;\n",
       "    }\n",
       "</style>\n",
       "<table border=\"1\" class=\"dataframe\">\n",
       "  <thead>\n",
       "    <tr style=\"text-align: right;\">\n",
       "      <th></th>\n",
       "      <th>height</th>\n",
       "      <th>EDUYRS2</th>\n",
       "      <th>z_score</th>\n",
       "      <th>timeschool</th>\n",
       "      <th>agegapr1</th>\n",
       "      <th>momeduyrsr1</th>\n",
       "      <th>agemonr1</th>\n",
       "      <th>hhsizer1</th>\n",
       "      <th>wi_newr1</th>\n",
       "      <th>earn</th>\n",
       "      <th>earn_usd</th>\n",
       "      <th>stunting_2cat</th>\n",
       "      <th>chsexr1</th>\n",
       "      <th>job_cat</th>\n",
       "      <th>pvt_sector</th>\n",
       "    </tr>\n",
       "  </thead>\n",
       "  <tbody>\n",
       "    <tr>\n",
       "      <th>0</th>\n",
       "      <td>157.0</td>\n",
       "      <td>12.5</td>\n",
       "      <td>1.379536</td>\n",
       "      <td>15.0</td>\n",
       "      <td>9.0</td>\n",
       "      <td>12.0</td>\n",
       "      <td>99.0</td>\n",
       "      <td>7.0</td>\n",
       "      <td>0.524603</td>\n",
       "      <td>2000.0</td>\n",
       "      <td>92.032104</td>\n",
       "      <td>0.0</td>\n",
       "      <td>0</td>\n",
       "      <td>5</td>\n",
       "      <td>1</td>\n",
       "    </tr>\n",
       "    <tr>\n",
       "      <th>1</th>\n",
       "      <td>174.0</td>\n",
       "      <td>10.0</td>\n",
       "      <td>-0.092591</td>\n",
       "      <td>30.0</td>\n",
       "      <td>10.0</td>\n",
       "      <td>6.0</td>\n",
       "      <td>90.0</td>\n",
       "      <td>8.0</td>\n",
       "      <td>0.473611</td>\n",
       "      <td>32000.0</td>\n",
       "      <td>1472.513672</td>\n",
       "      <td>0.0</td>\n",
       "      <td>1</td>\n",
       "      <td>3</td>\n",
       "      <td>1</td>\n",
       "    </tr>\n",
       "    <tr>\n",
       "      <th>2</th>\n",
       "      <td>155.0</td>\n",
       "      <td>12.5</td>\n",
       "      <td>1.785974</td>\n",
       "      <td>30.0</td>\n",
       "      <td>14.0</td>\n",
       "      <td>8.0</td>\n",
       "      <td>90.0</td>\n",
       "      <td>12.0</td>\n",
       "      <td>0.562821</td>\n",
       "      <td>7000.0</td>\n",
       "      <td>322.112366</td>\n",
       "      <td>0.0</td>\n",
       "      <td>0</td>\n",
       "      <td>5</td>\n",
       "      <td>1</td>\n",
       "    </tr>\n",
       "    <tr>\n",
       "      <th>3</th>\n",
       "      <td>153.5</td>\n",
       "      <td>12.0</td>\n",
       "      <td>1.803539</td>\n",
       "      <td>30.0</td>\n",
       "      <td>16.2</td>\n",
       "      <td>1.4</td>\n",
       "      <td>91.0</td>\n",
       "      <td>3.0</td>\n",
       "      <td>0.320370</td>\n",
       "      <td>3600.0</td>\n",
       "      <td>165.657791</td>\n",
       "      <td>0.0</td>\n",
       "      <td>0</td>\n",
       "      <td>5</td>\n",
       "      <td>1</td>\n",
       "    </tr>\n",
       "    <tr>\n",
       "      <th>4</th>\n",
       "      <td>169.0</td>\n",
       "      <td>10.0</td>\n",
       "      <td>0.893750</td>\n",
       "      <td>45.0</td>\n",
       "      <td>3.0</td>\n",
       "      <td>0.0</td>\n",
       "      <td>99.0</td>\n",
       "      <td>6.0</td>\n",
       "      <td>0.409259</td>\n",
       "      <td>43200.0</td>\n",
       "      <td>1987.893433</td>\n",
       "      <td>0.0</td>\n",
       "      <td>1</td>\n",
       "      <td>3</td>\n",
       "      <td>1</td>\n",
       "    </tr>\n",
       "  </tbody>\n",
       "</table>\n",
       "</div>"
      ],
      "text/plain": [
       "   height  EDUYRS2   z_score  timeschool  agegapr1  momeduyrsr1  agemonr1  \\\n",
       "0   157.0     12.5  1.379536        15.0       9.0         12.0      99.0   \n",
       "1   174.0     10.0 -0.092591        30.0      10.0          6.0      90.0   \n",
       "2   155.0     12.5  1.785974        30.0      14.0          8.0      90.0   \n",
       "3   153.5     12.0  1.803539        30.0      16.2          1.4      91.0   \n",
       "4   169.0     10.0  0.893750        45.0       3.0          0.0      99.0   \n",
       "\n",
       "   hhsizer1  wi_newr1     earn     earn_usd  stunting_2cat  chsexr1  job_cat  \\\n",
       "0       7.0  0.524603   2000.0    92.032104            0.0        0        5   \n",
       "1       8.0  0.473611  32000.0  1472.513672            0.0        1        3   \n",
       "2      12.0  0.562821   7000.0   322.112366            0.0        0        5   \n",
       "3       3.0  0.320370   3600.0   165.657791            0.0        0        5   \n",
       "4       6.0  0.409259  43200.0  1987.893433            0.0        1        3   \n",
       "\n",
       "   pvt_sector  \n",
       "0           1  \n",
       "1           1  \n",
       "2           1  \n",
       "3           1  \n",
       "4           1  "
      ]
     },
     "execution_count": 27,
     "metadata": {},
     "output_type": "execute_result"
    }
   ],
   "source": [
    "df_outlier_concat = pd.concat([df_num_imp, df_cat_imp], axis=1)\n",
    "df_outlier_concat.head()"
   ]
  },
  {
   "cell_type": "code",
   "execution_count": 28,
   "metadata": {},
   "outputs": [],
   "source": [
    "df_outlier_concat=df_outlier_concat.astype({\"stunting_2cat\": 'int64'})"
   ]
  },
  {
   "cell_type": "code",
   "execution_count": 29,
   "metadata": {},
   "outputs": [
    {
     "data": {
      "text/html": [
       "<div>\n",
       "<style scoped>\n",
       "    .dataframe tbody tr th:only-of-type {\n",
       "        vertical-align: middle;\n",
       "    }\n",
       "\n",
       "    .dataframe tbody tr th {\n",
       "        vertical-align: top;\n",
       "    }\n",
       "\n",
       "    .dataframe thead th {\n",
       "        text-align: right;\n",
       "    }\n",
       "</style>\n",
       "<table border=\"1\" class=\"dataframe\">\n",
       "  <thead>\n",
       "    <tr style=\"text-align: right;\">\n",
       "      <th></th>\n",
       "      <th>height</th>\n",
       "      <th>EDUYRS2</th>\n",
       "      <th>z_score</th>\n",
       "      <th>timeschool</th>\n",
       "      <th>agegapr1</th>\n",
       "      <th>momeduyrsr1</th>\n",
       "      <th>agemonr1</th>\n",
       "      <th>hhsizer1</th>\n",
       "      <th>wi_newr1</th>\n",
       "      <th>earn</th>\n",
       "      <th>earn_usd</th>\n",
       "      <th>stunting_2cat</th>\n",
       "      <th>chsexr1</th>\n",
       "      <th>job_cat</th>\n",
       "      <th>pvt_sector</th>\n",
       "    </tr>\n",
       "  </thead>\n",
       "  <tbody>\n",
       "    <tr>\n",
       "      <th>0</th>\n",
       "      <td>157.0</td>\n",
       "      <td>12.5</td>\n",
       "      <td>1.379536</td>\n",
       "      <td>15.0</td>\n",
       "      <td>9.0</td>\n",
       "      <td>12.0</td>\n",
       "      <td>99.0</td>\n",
       "      <td>7.0</td>\n",
       "      <td>0.524603</td>\n",
       "      <td>2000.0</td>\n",
       "      <td>92.032104</td>\n",
       "      <td>0</td>\n",
       "      <td>0</td>\n",
       "      <td>5</td>\n",
       "      <td>1</td>\n",
       "    </tr>\n",
       "    <tr>\n",
       "      <th>1</th>\n",
       "      <td>174.0</td>\n",
       "      <td>10.0</td>\n",
       "      <td>-0.092591</td>\n",
       "      <td>30.0</td>\n",
       "      <td>10.0</td>\n",
       "      <td>6.0</td>\n",
       "      <td>90.0</td>\n",
       "      <td>8.0</td>\n",
       "      <td>0.473611</td>\n",
       "      <td>32000.0</td>\n",
       "      <td>1472.513672</td>\n",
       "      <td>0</td>\n",
       "      <td>1</td>\n",
       "      <td>3</td>\n",
       "      <td>1</td>\n",
       "    </tr>\n",
       "    <tr>\n",
       "      <th>2</th>\n",
       "      <td>155.0</td>\n",
       "      <td>12.5</td>\n",
       "      <td>1.785974</td>\n",
       "      <td>30.0</td>\n",
       "      <td>14.0</td>\n",
       "      <td>8.0</td>\n",
       "      <td>90.0</td>\n",
       "      <td>12.0</td>\n",
       "      <td>0.562821</td>\n",
       "      <td>7000.0</td>\n",
       "      <td>322.112366</td>\n",
       "      <td>0</td>\n",
       "      <td>0</td>\n",
       "      <td>5</td>\n",
       "      <td>1</td>\n",
       "    </tr>\n",
       "    <tr>\n",
       "      <th>3</th>\n",
       "      <td>153.5</td>\n",
       "      <td>12.0</td>\n",
       "      <td>1.803539</td>\n",
       "      <td>30.0</td>\n",
       "      <td>16.2</td>\n",
       "      <td>1.4</td>\n",
       "      <td>91.0</td>\n",
       "      <td>3.0</td>\n",
       "      <td>0.320370</td>\n",
       "      <td>3600.0</td>\n",
       "      <td>165.657791</td>\n",
       "      <td>0</td>\n",
       "      <td>0</td>\n",
       "      <td>5</td>\n",
       "      <td>1</td>\n",
       "    </tr>\n",
       "    <tr>\n",
       "      <th>4</th>\n",
       "      <td>169.0</td>\n",
       "      <td>10.0</td>\n",
       "      <td>0.893750</td>\n",
       "      <td>45.0</td>\n",
       "      <td>3.0</td>\n",
       "      <td>0.0</td>\n",
       "      <td>99.0</td>\n",
       "      <td>6.0</td>\n",
       "      <td>0.409259</td>\n",
       "      <td>43200.0</td>\n",
       "      <td>1987.893433</td>\n",
       "      <td>0</td>\n",
       "      <td>1</td>\n",
       "      <td>3</td>\n",
       "      <td>1</td>\n",
       "    </tr>\n",
       "  </tbody>\n",
       "</table>\n",
       "</div>"
      ],
      "text/plain": [
       "   height  EDUYRS2   z_score  timeschool  agegapr1  momeduyrsr1  agemonr1  \\\n",
       "0   157.0     12.5  1.379536        15.0       9.0         12.0      99.0   \n",
       "1   174.0     10.0 -0.092591        30.0      10.0          6.0      90.0   \n",
       "2   155.0     12.5  1.785974        30.0      14.0          8.0      90.0   \n",
       "3   153.5     12.0  1.803539        30.0      16.2          1.4      91.0   \n",
       "4   169.0     10.0  0.893750        45.0       3.0          0.0      99.0   \n",
       "\n",
       "   hhsizer1  wi_newr1     earn     earn_usd  stunting_2cat  chsexr1  job_cat  \\\n",
       "0       7.0  0.524603   2000.0    92.032104              0        0        5   \n",
       "1       8.0  0.473611  32000.0  1472.513672              0        1        3   \n",
       "2      12.0  0.562821   7000.0   322.112366              0        0        5   \n",
       "3       3.0  0.320370   3600.0   165.657791              0        0        5   \n",
       "4       6.0  0.409259  43200.0  1987.893433              0        1        3   \n",
       "\n",
       "   pvt_sector  \n",
       "0           1  \n",
       "1           1  \n",
       "2           1  \n",
       "3           1  \n",
       "4           1  "
      ]
     },
     "execution_count": 29,
     "metadata": {},
     "output_type": "execute_result"
    }
   ],
   "source": [
    "df_outlier_concat.head()"
   ]
  },
  {
   "cell_type": "code",
   "execution_count": 30,
   "metadata": {},
   "outputs": [],
   "source": [
    "df_knn_imp=df_outlier_concat.copy()"
   ]
  },
  {
   "cell_type": "markdown",
   "metadata": {},
   "source": [
    "# Bayesian"
   ]
  },
  {
   "cell_type": "code",
   "execution_count": 31,
   "metadata": {},
   "outputs": [],
   "source": [
    "Y = df_knn_imp['EDUYRS2']\n",
    "X = df_knn_imp[['stunting_2cat']]"
   ]
  },
  {
   "cell_type": "code",
   "execution_count": 32,
   "metadata": {},
   "outputs": [
    {
     "name": "stderr",
     "output_type": "stream",
     "text": [
      "Multiprocess sampling (4 chains in 4 jobs)\n",
      "NUTS: [sigma, stunting_2cat, Intercept]\n"
     ]
    },
    {
     "data": {
      "text/html": [
       "\n",
       "    <div>\n",
       "        <style>\n",
       "            /* Turns off some styling */\n",
       "            progress {\n",
       "                /* gets rid of default border in Firefox and Opera. */\n",
       "                border: none;\n",
       "                /* Needs to be in here for Safari polyfill so background images work as expected. */\n",
       "                background-size: auto;\n",
       "            }\n",
       "            .progress-bar-interrupted, .progress-bar-interrupted::-webkit-progress-bar {\n",
       "                background: #F44336;\n",
       "            }\n",
       "        </style>\n",
       "      <progress value='44000' class='' max='44000' style='width:300px; height:20px; vertical-align: middle;'></progress>\n",
       "      100.00% [44000/44000 00:17<00:00 Sampling 4 chains, 0 divergences]\n",
       "    </div>\n",
       "    "
      ],
      "text/plain": [
       "<IPython.core.display.HTML object>"
      ]
     },
     "metadata": {},
     "output_type": "display_data"
    },
    {
     "name": "stderr",
     "output_type": "stream",
     "text": [
      "Sampling 4 chains for 1_000 tune and 10_000 draw iterations (4_000 + 40_000 draws total) took 35 seconds.\n"
     ]
    }
   ],
   "source": [
    "import pymc3 as pm\n",
    "\n",
    "with pm.Model() as linear_model:\n",
    "    # Intercept\n",
    "    intercept = pm.Normal('Intercept', mu =2.2 , sd = 10)\n",
    "    \n",
    "    # Slope \n",
    "    stunting_2cat = pm.Normal('stunting_2cat', mu = 1, sd = 3)\n",
    "    \n",
    "    \n",
    "    # Standard deviation\n",
    "    sigma = pm.HalfNormal('sigma', sd = 10)\n",
    "    \n",
    "    # Estimate of mean\n",
    "    mean = intercept + stunting_2cat * X.loc[:, 'stunting_2cat'] \n",
    "\n",
    "    \n",
    "    # Observed values\n",
    "    Y_obs = pm.Normal('Y_obs', mu = mean, sd = sigma, observed = Y.values)\n",
    "    \n",
    "    # Sampler\n",
    "    step = pm.NUTS()\n",
    "\n",
    "    # Posterior distribution\n",
    "    linear_trace = pm.sample(10000, step)"
   ]
  },
  {
   "cell_type": "code",
   "execution_count": 33,
   "metadata": {},
   "outputs": [
    {
     "data": {
      "text/html": [
       "<div>\n",
       "<style scoped>\n",
       "    .dataframe tbody tr th:only-of-type {\n",
       "        vertical-align: middle;\n",
       "    }\n",
       "\n",
       "    .dataframe tbody tr th {\n",
       "        vertical-align: top;\n",
       "    }\n",
       "\n",
       "    .dataframe thead th {\n",
       "        text-align: right;\n",
       "    }\n",
       "</style>\n",
       "<table border=\"1\" class=\"dataframe\">\n",
       "  <thead>\n",
       "    <tr style=\"text-align: right;\">\n",
       "      <th></th>\n",
       "      <th>mean</th>\n",
       "      <th>sd</th>\n",
       "      <th>hdi_3%</th>\n",
       "      <th>hdi_97%</th>\n",
       "      <th>mcse_mean</th>\n",
       "      <th>mcse_sd</th>\n",
       "      <th>ess_mean</th>\n",
       "      <th>ess_sd</th>\n",
       "      <th>ess_bulk</th>\n",
       "      <th>ess_tail</th>\n",
       "      <th>r_hat</th>\n",
       "    </tr>\n",
       "  </thead>\n",
       "  <tbody>\n",
       "    <tr>\n",
       "      <th>Intercept</th>\n",
       "      <td>8.771</td>\n",
       "      <td>0.145</td>\n",
       "      <td>8.503</td>\n",
       "      <td>9.049</td>\n",
       "      <td>0.001</td>\n",
       "      <td>0.001</td>\n",
       "      <td>26013.0</td>\n",
       "      <td>25981.0</td>\n",
       "      <td>26036.0</td>\n",
       "      <td>26962.0</td>\n",
       "      <td>1.0</td>\n",
       "    </tr>\n",
       "    <tr>\n",
       "      <th>stunting_2cat</th>\n",
       "      <td>-1.189</td>\n",
       "      <td>0.254</td>\n",
       "      <td>-1.680</td>\n",
       "      <td>-0.724</td>\n",
       "      <td>0.002</td>\n",
       "      <td>0.001</td>\n",
       "      <td>26349.0</td>\n",
       "      <td>26133.0</td>\n",
       "      <td>26346.0</td>\n",
       "      <td>27391.0</td>\n",
       "      <td>1.0</td>\n",
       "    </tr>\n",
       "    <tr>\n",
       "      <th>sigma</th>\n",
       "      <td>2.889</td>\n",
       "      <td>0.084</td>\n",
       "      <td>2.731</td>\n",
       "      <td>3.047</td>\n",
       "      <td>0.000</td>\n",
       "      <td>0.000</td>\n",
       "      <td>37668.0</td>\n",
       "      <td>37668.0</td>\n",
       "      <td>37531.0</td>\n",
       "      <td>26156.0</td>\n",
       "      <td>1.0</td>\n",
       "    </tr>\n",
       "  </tbody>\n",
       "</table>\n",
       "</div>"
      ],
      "text/plain": [
       "                mean     sd  hdi_3%  hdi_97%  mcse_mean  mcse_sd  ess_mean  \\\n",
       "Intercept      8.771  0.145   8.503    9.049      0.001    0.001   26013.0   \n",
       "stunting_2cat -1.189  0.254  -1.680   -0.724      0.002    0.001   26349.0   \n",
       "sigma          2.889  0.084   2.731    3.047      0.000    0.000   37668.0   \n",
       "\n",
       "                ess_sd  ess_bulk  ess_tail  r_hat  \n",
       "Intercept      25981.0   26036.0   26962.0    1.0  \n",
       "stunting_2cat  26133.0   26346.0   27391.0    1.0  \n",
       "sigma          37668.0   37531.0   26156.0    1.0  "
      ]
     },
     "execution_count": 33,
     "metadata": {},
     "output_type": "execute_result"
    }
   ],
   "source": [
    "az.summary(linear_trace)"
   ]
  },
  {
   "cell_type": "code",
   "execution_count": 34,
   "metadata": {},
   "outputs": [
    {
     "data": {
      "text/plain": [
       "array([[<AxesSubplot:title={'center':'Intercept'}>,\n",
       "        <AxesSubplot:title={'center':'Intercept'}>],\n",
       "       [<AxesSubplot:title={'center':'stunting_2cat'}>,\n",
       "        <AxesSubplot:title={'center':'stunting_2cat'}>],\n",
       "       [<AxesSubplot:title={'center':'sigma'}>,\n",
       "        <AxesSubplot:title={'center':'sigma'}>]], dtype=object)"
      ]
     },
     "execution_count": 34,
     "metadata": {},
     "output_type": "execute_result"
    },
    {
     "data": {
      "image/png": "[encoded data removed]",
      "text/plain": [
       "<Figure size 864x432 with 6 Axes>"
      ]
     },
     "metadata": {
      "needs_background": "light"
     },
     "output_type": "display_data"
    }
   ],
   "source": [
    "az.plot_trace(linear_trace)"
   ]
  },
  {
   "cell_type": "code",
   "execution_count": 35,
   "metadata": {},
   "outputs": [
    {
     "data": {
      "image/png": "[encoded data removed]",
      "text/plain": [
       "<Figure size 432x518.4 with 1 Axes>"
      ]
     },
     "metadata": {
      "needs_background": "light"
     },
     "output_type": "display_data"
    }
   ],
   "source": [
    "az.plot_forest(linear_trace);"
   ]
  },
  {
   "cell_type": "code",
   "execution_count": null,
   "metadata": {},
   "outputs": [],
   "source": []
  }
 ],
 "metadata": {
  "kernelspec": {
   "display_name": "Python 3",
   "language": "python",
   "name": "python3"
  },
  "language_info": {
   "codemirror_mode": {
    "name": "ipython",
    "version": 3
   },
   "file_extension": ".py",
   "mimetype": "text/x-python",
   "name": "python",
   "nbconvert_exporter": "python",
   "pygments_lexer": "ipython3",
   "version": "3.8.5"
  }
 },
 "nbformat": 4,
 "nbformat_minor": 4
}
